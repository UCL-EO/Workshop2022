{
 "cells": [
  {
   "cell_type": "markdown",
   "metadata": {},
   "source": [
    "# Ghana Workshop Q1. Maize Mapper for Ghana \n",
    "\n",
    "This notebook will demonstrate some basic mapping tools within GEE to:\n",
    "  \n",
    "1) visualise the vegetation data from existing satellite products, e.g. MODIS LAI and ERA weather data;  \n",
    "2) visualise MOFA yield statistics (data available between 2006 and 2020) and planting area data (available between 2013 and 2017);  \n",
    "4) explore the relationship between district-level yield data and weather drivers;  \n",
    "* A number of masking choices are provided for classifying potential areas of maize/cropland. "
   ]
  },
  {
   "cell_type": "markdown",
   "metadata": {},
   "source": [
    "Please contact Qingling Wu <qling.wu@gmail.com> if you have any questions related to this Maize Mapper."
   ]
  },
  {
   "cell_type": "markdown",
   "metadata": {},
   "source": [
    "## 1. Basic Mapping for Yield Estimate with GEE\n",
    "\n",
    "There are two Google Earth Engine (GEE) based interface for mapping maize-related data in Ghana. The first one is a general explorer to visualize information like MODIS [Leaf Area Index (LAI)](https://en.wikipedia.org/wiki/Leaf_area_index), a common index used to represent the amount of the vegetation on ground, the higher the value, the more vegetation there is for any given location. MODIS LAI comes at a 500m spatial resolution.\n",
    "\n",
    "You may choose to look at data just for the Northern or Accra regions, or even the whole Ghana. It automatically loads the [MODIS MCD15A3H Lai](https://developers.google.com/earth-engine/datasets/catalog/MODIS_006_MCD15A3H), the [MODIS MCD12Q1 LandCover](https://developers.google.com/earth-engine/datasets/catalog/MODIS_006_MCD12Q1) or the [MODIS MOD13Q1 NDVI](https://developers.google.com/earth-engine/datasets/catalog/MODIS_006_MOD13Q1) image collections from GEE's data catalog and also calculates the annual maximum values for the specific band for a specific year. \n",
    "\n",
    "It also can load the [ERA5-Land Monthly Averaged - ECMWF Climate Reanalysis](https://developers.google.com/earth-engine/datasets/catalog/ECMWF_ERA5_LAND_MONTHLY) data, which comes in a '0.1 arc degrees' resolution. Some useful information includes (of course not limited to, but for demonstration purposes, we only includes) air temperature and precipitation.\n",
    "\n",
    "This Maize Mapper has also incorporated MOFA yield statistics and planting area data for some years. There is also an empirical yield estimated based on a simple linear relationship (calibrated based on farm-scale data) from Max LAI layer we mentioned earlier, but what do you think about the estimated values at MODIS resolution? "
   ]
  },
  {
   "cell_type": "code",
   "execution_count": 1,
   "metadata": {},
   "outputs": [
    {
     "data": {
      "application/vnd.jupyter.widget-view+json": {
       "model_id": "01f396b690954645947ffe4010caa618",
       "version_major": 2,
       "version_minor": 0
      },
      "text/plain": [
       "VBox(children=(HBox(children=(Map(center=[9.38, -0.68], controls=(WidgetControl(options=['position', 'transpar…"
      ]
     },
     "metadata": {},
     "output_type": "display_data"
    }
   ],
   "source": [
    "from Q2_Interface import *\n",
    "display(full_map)"
   ]
  },
  {
   "cell_type": "markdown",
   "metadata": {},
   "source": [
    "## 2. District-level explorer, case of Norther Ghana\n",
    "\n",
    "The second explorer allows one to examine the historical trends of weather data, yield data, and amount of vegetation inferred from satellite data. First, let's have a look of these trend over all districts in the northern region in the following figure, then we can explore them at individual district level, by clicking on any district on the Mapper. Can you find any plausible relationships between the variables?"
   ]
  },
  {
   "cell_type": "code",
   "execution_count": 4,
   "metadata": {},
   "outputs": [
    {
     "data": {
      "application/vnd.jupyter.widget-view+json": {
       "model_id": "6524c2a858724649bc3b48721362a21b",
       "version_major": 2,
       "version_minor": 0
      },
      "text/plain": [
       "Map(bottom=31294.0, center=[9.70065, -0.54129], controls=(WidgetControl(options=['position', 'transparent_bg']…"
      ]
     },
     "metadata": {},
     "output_type": "display_data"
    }
   ],
   "source": [
    "Map_Northern"
   ]
  },
  {
   "cell_type": "code",
   "execution_count": null,
   "metadata": {},
   "outputs": [],
   "source": []
  }
 ],
 "metadata": {
  "kernelspec": {
   "display_name": "Python 3",
   "language": "python",
   "name": "python3"
  },
  "language_info": {
   "codemirror_mode": {
    "name": "ipython",
    "version": 3
   },
   "file_extension": ".py",
   "mimetype": "text/x-python",
   "name": "python",
   "nbconvert_exporter": "python",
   "pygments_lexer": "ipython3",
   "version": "3.7.9"
  }
 },
 "nbformat": 4,
 "nbformat_minor": 4
}
