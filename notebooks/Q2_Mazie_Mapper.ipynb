{
 "cells": [
  {
   "cell_type": "markdown",
   "metadata": {},
   "source": [
    "# Ghana Workshop Q1. Maize Mapper for Ghana \n",
    "\n",
    "This notebook will demonstrate some basic mapping tools within GEE to:\n",
    "  \n",
    "1) visualise the vegetation data from existing satellite products, e.g. MODIS LAI and ERA weather data;  \n",
    "2) visualise MOFA yield statistics (data available between 2006 and 2020) and planting area data (available between 2013 and 2017);  \n",
    "4) explore the relationship between district-level yield data and weather drivers;  \n",
    "* A number of masking choices are provided for classifying potential areas of maize/cropland. "
   ]
  },
  {
   "cell_type": "markdown",
   "metadata": {},
   "source": [
    "Please contact Qingling Wu <qling.wu@gmail.com> if you have any questions related to this GEE mapper."
   ]
  },
  {
   "cell_type": "markdown",
   "metadata": {},
   "source": [
    "## 1. Basic Mapping for Yield Estimate with GEE\n",
    "\n",
    "There are two Google Earth Engine (GEE) based interface for mapping maize-related data in Ghana. The first one is a general explorer to visualize MODIS based "
   ]
  },
  {
   "cell_type": "code",
   "execution_count": 1,
   "metadata": {},
   "outputs": [
    {
     "name": "stdout",
     "output_type": "stream",
     "text": [
      "11\n"
     ]
    },
    {
     "data": {
      "application/vnd.jupyter.widget-view+json": {
       "model_id": "3952c513719c4c8d9ce299a29a14c7cc",
       "version_major": 2,
       "version_minor": 0
      },
      "text/plain": [
       "VBox(children=(HBox(children=(Map(center=[9.38, -0.68], controls=(WidgetControl(options=['position', 'transpar…"
      ]
     },
     "metadata": {},
     "output_type": "display_data"
    }
   ],
   "source": [
    "from Q2_Interface import *\n",
    "display(full_map)"
   ]
  },
  {
   "cell_type": "markdown",
   "metadata": {},
   "source": [
    "## 2. District-level explorer, case of Norther Ghana\n",
    "\n",
    "The second explorer allows one to examine the historical trends of weather data, yield data, and amount of vegetation inferred from satellite data."
   ]
  },
  {
   "cell_type": "code",
   "execution_count": 2,
   "metadata": {},
   "outputs": [
    {
     "data": {
      "application/vnd.jupyter.widget-view+json": {
       "model_id": "71bd44c9921843bdba8bac200e04abb5",
       "version_major": 2,
       "version_minor": 0
      },
      "text/plain": [
       "Map(center=[9.70065, -0.54129], controls=(WidgetControl(options=['position', 'transparent_bg'], widget=HBox(ch…"
      ]
     },
     "metadata": {},
     "output_type": "display_data"
    }
   ],
   "source": [
    "Map_Northern"
   ]
  },
  {
   "cell_type": "code",
   "execution_count": null,
   "metadata": {},
   "outputs": [],
   "source": []
  }
 ],
 "metadata": {
  "kernelspec": {
   "display_name": "Python 3",
   "language": "python",
   "name": "python3"
  },
  "language_info": {
   "codemirror_mode": {
    "name": "ipython",
    "version": 3
   },
   "file_extension": ".py",
   "mimetype": "text/x-python",
   "name": "python",
   "nbconvert_exporter": "python",
   "pygments_lexer": "ipython3",
   "version": "3.7.9"
  }
 },
 "nbformat": 4,
 "nbformat_minor": 4
}
