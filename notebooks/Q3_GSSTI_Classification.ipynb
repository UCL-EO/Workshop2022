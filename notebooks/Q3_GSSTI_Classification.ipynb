{
 "cells": [
  {
   "cell_type": "markdown",
   "metadata": {},
   "source": [
    "# GEE-based maize classification"
   ]
  },
  {
   "cell_type": "markdown",
   "metadata": {},
   "source": [
    "The code for applying the Random Forest (RF) classifier is implemented on GEE directly. Please click relevant links below to access the code:  \n",
    "1) RF implementation code: https://code.earthengine.google.com/4795796bb1f47ff7e9ca9c0aae263c11  \n",
    "2) Run classification chain: https://code.earthengine.google.com/63e57d776a885a10cb1d55f9d598ddb1?noload=true  \n",
    "3) Interactive interface with a slider: https://code.earthengine.google.com/339c17407c17f9db94045d4c26097bd1  \n",
    "\n",
    "\n",
    "There is also an Ipython-based Interface: https://github.com/UCL-EO/Workshop2022/blob/main/notebooks/CAU_Interface_Ghana.ipynb"
   ]
  },
  {
   "cell_type": "markdown",
   "metadata": {},
   "source": [
    "Video and slides resources can be found here: https://drive.google.com/drive/folders/13wvLgg3MMVh6GNf0JJ7uuOyaPGhOeR0y"
   ]
  },
  {
   "cell_type": "code",
   "execution_count": null,
   "metadata": {},
   "outputs": [],
   "source": []
  }
 ],
 "metadata": {
  "kernelspec": {
   "display_name": "Python 3",
   "language": "python",
   "name": "python3"
  },
  "language_info": {
   "codemirror_mode": {
    "name": "ipython",
    "version": 3
   },
   "file_extension": ".py",
   "mimetype": "text/x-python",
   "name": "python",
   "nbconvert_exporter": "python",
   "pygments_lexer": "ipython3",
   "version": "3.7.9"
  }
 },
 "nbformat": 4,
 "nbformat_minor": 4
}
