{
 "cells": [
  {
   "cell_type": "code",
   "execution_count": 4,
   "id": "3e5761d1-7a86-422e-9bd2-c518376effde",
   "metadata": {},
   "outputs": [
    {
     "data": {
      "application/vnd.jupyter.widget-view+json": {
       "model_id": "125ce2d6c12748c886d96259b58977e3",
       "version_major": 2,
       "version_minor": 0
      },
      "text/plain": [
       "Label(value='')"
      ]
     },
     "metadata": {},
     "output_type": "display_data"
    }
   ],
   "source": [
    "run create_map.py"
   ]
  },
  {
   "cell_type": "code",
   "execution_count": 5,
   "id": "e5eb9014-3bbe-4a83-88e6-4c8ffbcbc0dd",
   "metadata": {},
   "outputs": [
    {
     "data": {
      "application/vnd.jupyter.widget-view+json": {
       "model_id": "5947c20033dc4528a539c967cac100a3",
       "version_major": 2,
       "version_minor": 0
      },
      "text/plain": [
       "Map(center=[9.700554008484533, -0.541705192919114], controls=(ZoomControl(options=['position', 'zoom_in_text',…"
      ]
     },
     "metadata": {},
     "output_type": "display_data"
    }
   ],
   "source": [
    "my_map"
   ]
  },
  {
   "cell_type": "code",
   "execution_count": null,
   "id": "66a60645-de79-459f-b51f-3c7a272903c5",
   "metadata": {},
   "outputs": [],
   "source": [
    "print(year, lat, lon)"
   ]
  },
  {
   "cell_type": "code",
   "execution_count": 6,
   "id": "d9585054-0321-4e6e-bf72-26be753768b2",
   "metadata": {},
   "outputs": [
    {
     "name": "stderr",
     "output_type": "stream",
     "text": [
      "./python/wofost_utils.py:303: RuntimeWarning: Mean of empty slice\n",
      "  humidity = np.maximum(np.nanmean(para_vals[0], axis=1), 0)\n",
      "./python/wofost_utils.py:304: RuntimeWarning: All-NaN slice encountered\n",
      "  temperature_2m_max = np.nanmax(para_vals[1], axis=1)\n",
      "./python/wofost_utils.py:305: RuntimeWarning: All-NaN slice encountered\n",
      "  temperature_2m_min = np.nanmin(para_vals[1], axis=1)\n",
      "./python/wofost_utils.py:308: RuntimeWarning: Mean of empty slice\n",
      "  wind = np.nanmean(np.sqrt(para_vals[4] ** 2 + para_vals[5] ** 2), axis=1)\n"
     ]
    }
   ],
   "source": [
    "meteo_file = get_era5_gee(year, lat, lon, dest_folder=\"data/ERA5_weather/\")"
   ]
  },
  {
   "cell_type": "code",
   "execution_count": 1,
   "id": "853e69bd-42cf-4e49-bbf9-6e400666bfcc",
   "metadata": {},
   "outputs": [],
   "source": [
    "mkdir data/ERA5_weather/"
   ]
  },
  {
   "cell_type": "code",
   "execution_count": null,
   "id": "5bd6b397-a18d-4361-be1b-9359cf11d291",
   "metadata": {},
   "outputs": [],
   "source": []
  }
 ],
 "metadata": {
  "kernelspec": {
   "display_name": "Python 3.7.8 64-bit ('base': conda)",
   "language": "python",
   "name": "python378jvsc74a57bd0ef356a1c93566abccc07ec29b723e17d317be8a0fe41550b84b00cb85c4fd003"
  },
  "language_info": {
   "codemirror_mode": {
    "name": "ipython",
    "version": 3
   },
   "file_extension": ".py",
   "mimetype": "text/x-python",
   "name": "python",
   "nbconvert_exporter": "python",
   "pygments_lexer": "ipython3",
   "version": "3.7.8"
  }
 },
 "nbformat": 4,
 "nbformat_minor": 5
}
