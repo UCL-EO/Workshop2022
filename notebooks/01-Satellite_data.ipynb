{
 "cells": [
  {
   "cell_type": "code",
   "execution_count": 31,
   "id": "3e5761d1-7a86-422e-9bd2-c518376effde",
   "metadata": {},
   "outputs": [
    {
     "name": "stderr",
     "output_type": "stream",
     "text": [
      "/home/users/marcyin/miniconda3/lib/python3.7/site-packages/_distutils_hack/__init__.py:30: UserWarning: Setuptools is replacing distutils.\n",
      "  warnings.warn(\"Setuptools is replacing distutils.\")\n"
     ]
    },
    {
     "data": {
      "application/vnd.jupyter.widget-view+json": {
       "model_id": "a8f058306ea0486c83e73511503d3c15",
       "version_major": 2,
       "version_minor": 0
      },
      "text/plain": [
       "Label(value='')"
      ]
     },
     "metadata": {},
     "output_type": "display_data"
    }
   ],
   "source": [
    "run create_map.py"
   ]
  },
  {
   "cell_type": "code",
   "execution_count": 32,
   "id": "e5eb9014-3bbe-4a83-88e6-4c8ffbcbc0dd",
   "metadata": {},
   "outputs": [
    {
     "data": {
      "application/vnd.jupyter.widget-view+json": {
       "model_id": "3b588f61a589438db638b8d9ed4074f2",
       "version_major": 2,
       "version_minor": 0
      },
      "text/plain": [
       "Map(center=[9.700554008484533, -0.541705192919114], controls=(ZoomControl(options=['position', 'zoom_in_text',…"
      ]
     },
     "metadata": {},
     "output_type": "display_data"
    }
   ],
   "source": [
    "my_map"
   ]
  },
  {
   "cell_type": "code",
   "execution_count": null,
   "id": "d9585054-0321-4e6e-bf72-26be753768b2",
   "metadata": {},
   "outputs": [],
   "source": []
  }
 ],
 "metadata": {
  "kernelspec": {
   "display_name": "Python 3.7.8 64-bit ('base': conda)",
   "language": "python",
   "name": "python378jvsc74a57bd0ef356a1c93566abccc07ec29b723e17d317be8a0fe41550b84b00cb85c4fd003"
  },
  "language_info": {
   "codemirror_mode": {
    "name": "ipython",
    "version": 3
   },
   "file_extension": ".py",
   "mimetype": "text/x-python",
   "name": "python",
   "nbconvert_exporter": "python",
   "pygments_lexer": "ipython3",
   "version": "3.7.8"
  }
 },
 "nbformat": 4,
 "nbformat_minor": 5
}
