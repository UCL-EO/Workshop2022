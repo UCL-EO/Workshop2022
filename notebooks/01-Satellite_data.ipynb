{
 "cells": [
  {
   "cell_type": "code",
   "execution_count": 1,
   "id": "3e5761d1-7a86-422e-9bd2-c518376effde",
   "metadata": {},
   "outputs": [
    {
     "data": {
      "application/vnd.jupyter.widget-view+json": {
       "model_id": "e9e5e693067e402083a7a862bd330263",
       "version_major": 2,
       "version_minor": 0
      },
      "text/plain": [
       "Label(value='')"
      ]
     },
     "metadata": {},
     "output_type": "display_data"
    }
   ],
   "source": [
    "run create_map.py"
   ]
  },
  {
   "cell_type": "code",
   "execution_count": 2,
   "id": "e5eb9014-3bbe-4a83-88e6-4c8ffbcbc0dd",
   "metadata": {},
   "outputs": [
    {
     "data": {
      "application/vnd.jupyter.widget-view+json": {
       "model_id": "667a54a486644b6aa54c8d2dc728347c",
       "version_major": 2,
       "version_minor": 0
      },
      "text/plain": [
       "Map(center=[9.700554008484533, -0.541705192919114], controls=(ZoomControl(options=['position', 'zoom_in_text',…"
      ]
     },
     "metadata": {},
     "output_type": "display_data"
    }
   ],
   "source": [
    "my_map"
   ]
  },
  {
   "cell_type": "code",
   "execution_count": null,
   "id": "cd4f122c-d435-49c3-bb70-a9235de2044e",
   "metadata": {},
   "outputs": [],
   "source": []
  }
 ],
 "metadata": {
  "kernelspec": {
   "display_name": "Python 3.7.8 64-bit ('base': conda)",
   "language": "python",
   "name": "python378jvsc74a57bd0ef356a1c93566abccc07ec29b723e17d317be8a0fe41550b84b00cb85c4fd003"
  },
  "language_info": {
   "codemirror_mode": {
    "name": "ipython",
    "version": 3
   },
   "file_extension": ".py",
   "mimetype": "text/x-python",
   "name": "python",
   "nbconvert_exporter": "python",
   "pygments_lexer": "ipython3",
   "version": "3.7.8"
  }
 },
 "nbformat": 4,
 "nbformat_minor": 5
}
