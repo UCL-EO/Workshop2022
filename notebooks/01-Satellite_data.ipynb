{
 "cells": [
  {
   "cell_type": "code",
   "execution_count": 1,
   "id": "3e5761d1-7a86-422e-9bd2-c518376effde",
   "metadata": {},
   "outputs": [
    {
     "name": "stderr",
     "output_type": "stream",
     "text": [
      "/home/users/marcyin/miniconda3/lib/python3.7/site-packages/traitlets/traitlets.py:588: FutureWarning: elementwise comparison failed; returning scalar instead, but in the future will perform elementwise comparison\n",
      "  silent = bool(old_value == new_value)\n"
     ]
    },
    {
     "name": "stdout",
     "output_type": "stream",
     "text": [
      "loading simulations\n"
     ]
    },
    {
     "data": {
      "application/vnd.jupyter.widget-view+json": {
       "model_id": "13e5a2a8b30e418aadc54fd0a20c2af0",
       "version_major": 2,
       "version_minor": 0
      },
      "text/plain": [
       "Label(value='')"
      ]
     },
     "metadata": {},
     "output_type": "display_data"
    }
   ],
   "source": [
    "run create_map.py"
   ]
  },
  {
   "cell_type": "code",
   "execution_count": 2,
   "id": "e5eb9014-3bbe-4a83-88e6-4c8ffbcbc0dd",
   "metadata": {},
   "outputs": [
    {
     "data": {
      "application/vnd.jupyter.widget-view+json": {
       "model_id": "80d631bfc0de444f93ae7aeda502e65e",
       "version_major": 2,
       "version_minor": 0
      },
      "text/plain": [
       "Map(center=[9.700554008484533, -0.541705192919114], controls=(ZoomControl(options=['position', 'zoom_in_text',…"
      ]
     },
     "metadata": {},
     "output_type": "display_data"
    }
   ],
   "source": [
    "my_map"
   ]
  },
  {
   "cell_type": "code",
   "execution_count": 3,
   "id": "eedf57ae-6b8a-48c7-a1db-4b7bac336c78",
   "metadata": {},
   "outputs": [
    {
     "name": "stdout",
     "output_type": "stream",
     "text": [
      "loading simulations\n"
     ]
    },
    {
     "data": {
      "application/vnd.jupyter.widget-view+json": {
       "model_id": "2b183ff0454a45b8ad6f4dc31712333f",
       "version_major": 2,
       "version_minor": 0
      },
      "text/plain": [
       "VBox(children=(VBox(children=(HBox(children=(Figure(animation_duration=500, axes=[Axis(label='DOY', num_ticks=…"
      ]
     },
     "metadata": {},
     "output_type": "display_data"
    }
   ],
   "source": [
    "from ipywidgets import IntSlider\n",
    "def read_wofost_data(fname):\n",
    "    f = np.load(fname, allow_pickle=True)\n",
    "    parameters = f.f.parameters\n",
    "    t_axis = f.f.t_axis\n",
    "    samples = f.f.samples\n",
    "    lais = f.f.lais\n",
    "    yields = f.f.yields\n",
    "    DVS = f.f.DVS\n",
    "    print(\"loading simulations\")\n",
    "    doys = [int(datetime.datetime.utcfromtimestamp(i.tolist()/1e9).strftime('%j')) for i in t_axis]\n",
    "    return parameters, t_axis, samples, lais, yields, DVS, doys\n",
    "\n",
    "parameters, t_axis, samples, lais, yields, DVS, simu_doys = read_wofost_data('data/wofost_sims_dvs150.npz')\n",
    "\n",
    "k_slider1 = IntSlider(min=181, max=224, value=200,        # Opacity is valid in [0,1] range\n",
    "               orientation='horizontal',       # Vertical slider is what we want\n",
    "               readout=True,                # No need to show exact value\n",
    "               layout=Layout(width='80%'),\n",
    "               description='Doy of sowing: ', \n",
    "               style={'description_width': 'initial'}) \n",
    "\n",
    "k_slider2 = FloatSlider(min=0.05, max=0.55, value=0.35,       # Opacity is valid in [0,1] range\n",
    "               step = 0.0025,\n",
    "               orientation='horizontal',       # Vertical slider is what we want\n",
    "               readout=True,                # No need to show exact value\n",
    "               layout=Layout(width='80%'),\n",
    "               description='Early stress level: ', \n",
    "               style={'description_width': 'initial'}) \n",
    "\n",
    "k_slider3 = FloatSlider(min=0.05, max=0.55,  value=0.35,       # Opacity is valid in [0,1] range\n",
    "               step = 0.0025,\n",
    "               orientation='horizontal',       # Vertical slider is what we want\n",
    "               readout=True,                # No need to show exact value\n",
    "               layout=Layout(width='80%'),\n",
    "               description='Late stress level: ', \n",
    "               style={'description_width': 'initial'}) \n",
    "\n",
    "def on_change_k_slider(change):\n",
    "\n",
    "    if (change['name'] == 'value') & (change['type'] == 'change'):\n",
    "        value = change[\"new\"]\n",
    "        old = change['old']\n",
    "        \n",
    "        k1 = k_slider1.value\n",
    "        k2 = k_slider2.value\n",
    "        k3 = k_slider3.value\n",
    "        \n",
    "        \n",
    "        diff = abs(parameters - np.array([[k1, k2, k3]])).sum(axis=1)\n",
    "        ind = np.argmin(diff)\n",
    "        \n",
    "        simu_lai = lais[ind]\n",
    "        \n",
    "        \n",
    "        # var_line = line_axs[-1]\n",
    "        # var_line.scales = line_axs[5][0].scales\n",
    "        # field_lai_boxes.scales = var_line.scales\n",
    "        # lai_dot.scales = var_line.scales\n",
    "\n",
    "        wofost_lai.x = simu_doys\n",
    "        wofost_lai.y = simu_lai\n",
    "        wofost_lai.scales = lai_fig.marks[1].scales\n",
    "        wofost_lai.colors = ['red']\n",
    "        \n",
    "        print(simu_doys[np.nanargmin(abs(DVS[ind]-1.25))])\n",
    "        \n",
    "        # print(k1, k2, k3)\n",
    "        # print(parameters[ind])\n",
    "        \n",
    "        \n",
    "        \n",
    "k_slider1.observe(on_change_k_slider)\n",
    "k_slider2.observe(on_change_k_slider)\n",
    "k_slider3.observe(on_change_k_slider)\n",
    "\n",
    "panel_box = VBox([fig_box, k_slider1, k_slider2, k_slider3], layout = box_layout)\n",
    "panel_box"
   ]
  },
  {
   "cell_type": "code",
   "execution_count": null,
   "id": "d9585054-0321-4e6e-bf72-26be753768b2",
   "metadata": {},
   "outputs": [],
   "source": []
  }
 ],
 "metadata": {
  "kernelspec": {
   "display_name": "Python 3.7.8 64-bit ('base': conda)",
   "language": "python",
   "name": "python378jvsc74a57bd0ef356a1c93566abccc07ec29b723e17d317be8a0fe41550b84b00cb85c4fd003"
  },
  "language_info": {
   "codemirror_mode": {
    "name": "ipython",
    "version": 3
   },
   "file_extension": ".py",
   "mimetype": "text/x-python",
   "name": "python",
   "nbconvert_exporter": "python",
   "pygments_lexer": "ipython3",
   "version": "3.7.8"
  }
 },
 "nbformat": 4,
 "nbformat_minor": 5
}
