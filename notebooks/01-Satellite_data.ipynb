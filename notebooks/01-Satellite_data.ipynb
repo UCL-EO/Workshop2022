{
 "cells": [
  {
   "cell_type": "code",
   "execution_count": 6,
   "id": "3e5761d1-7a86-422e-9bd2-c518376effde",
   "metadata": {},
   "outputs": [
    {
     "data": {
      "application/vnd.jupyter.widget-view+json": {
       "model_id": "35923c3378054849a51d6492bb4dbe3b",
       "version_major": 2,
       "version_minor": 0
      },
      "text/plain": [
       "Label(value='')"
      ]
     },
     "metadata": {},
     "output_type": "display_data"
    }
   ],
   "source": [
    "run create_map.py"
   ]
  },
  {
   "cell_type": "code",
   "execution_count": 7,
   "id": "e5eb9014-3bbe-4a83-88e6-4c8ffbcbc0dd",
   "metadata": {},
   "outputs": [
    {
     "data": {
      "application/vnd.jupyter.widget-view+json": {
       "model_id": "1d0e7d080a4b4d7581eaca4977c09b3a",
       "version_major": 2,
       "version_minor": 0
      },
      "text/plain": [
       "Map(center=[9.700554008484533, -0.541705192919114], controls=(ZoomControl(options=['position', 'zoom_in_text',…"
      ]
     },
     "metadata": {},
     "output_type": "display_data"
    }
   ],
   "source": [
    "my_map"
   ]
  },
  {
   "cell_type": "code",
   "execution_count": null,
   "id": "19b56647-f541-4eec-b6fc-e54364c42ded",
   "metadata": {},
   "outputs": [],
   "source": []
  }
 ],
 "metadata": {
  "kernelspec": {
   "display_name": "Python 3.7.8 64-bit ('base': conda)",
   "language": "python",
   "name": "python378jvsc74a57bd0ef356a1c93566abccc07ec29b723e17d317be8a0fe41550b84b00cb85c4fd003"
  },
  "language_info": {
   "codemirror_mode": {
    "name": "ipython",
    "version": 3
   },
   "file_extension": ".py",
   "mimetype": "text/x-python",
   "name": "python",
   "nbconvert_exporter": "python",
   "pygments_lexer": "ipython3",
   "version": "3.7.8"
  }
 },
 "nbformat": 4,
 "nbformat_minor": 5
}
