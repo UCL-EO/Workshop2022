{
 "cells": [
  {
   "cell_type": "code",
   "execution_count": 21,
   "id": "3e5761d1-7a86-422e-9bd2-c518376effde",
   "metadata": {},
   "outputs": [
    {
     "data": {
      "application/vnd.jupyter.widget-view+json": {
       "model_id": "883ea804fe0548ca9204af38e7bbb1cc",
       "version_major": 2,
       "version_minor": 0
      },
      "text/plain": [
       "Label(value='')"
      ]
     },
     "metadata": {},
     "output_type": "display_data"
    }
   ],
   "source": [
    "run create_map.py"
   ]
  },
  {
   "cell_type": "code",
   "execution_count": 22,
   "id": "e5eb9014-3bbe-4a83-88e6-4c8ffbcbc0dd",
   "metadata": {},
   "outputs": [
    {
     "data": {
      "application/vnd.jupyter.widget-view+json": {
       "model_id": "e60ec3ff6c5646bd9f7f4f2594d4576a",
       "version_major": 2,
       "version_minor": 0
      },
      "text/plain": [
       "Map(center=[9.700554008484533, -0.541705192919114], controls=(ZoomControl(options=['position', 'zoom_in_text',…"
      ]
     },
     "metadata": {},
     "output_type": "display_data"
    }
   ],
   "source": [
    "my_map"
   ]
  },
  {
   "cell_type": "code",
   "execution_count": 19,
   "id": "eddcea91-547a-40ed-947c-be15ac0799c2",
   "metadata": {},
   "outputs": [
    {
     "data": {
      "application/vnd.jupyter.widget-view+json": {
       "model_id": "7aae4c6f2fa64e16bd9cc373f65398a5",
       "version_major": 2,
       "version_minor": 0
      },
      "text/plain": [
       "HBox(children=(Figure(animation_duration=500, axes=[Axis(label='DOY', num_ticks=5, scale=LinearScale(max=330.0…"
      ]
     },
     "metadata": {},
     "output_type": "display_data"
    }
   ],
   "source": [
    "def get_para_plot(para_name, x, y, xmin = 180, xmax = 330):\n",
    "    x = np.array(x)\n",
    "    y = np.array(y)\n",
    "    \n",
    "    para_min_maxs = {'DVS': [0, 2],\n",
    "                     'LAI': [0, 3],\n",
    "                     'TAGP': [0, 15000],\n",
    "                     'TWSO': [0, 4000],\n",
    "                     'TWLV': [0, 2000],\n",
    "                     'TWST': [0, 10000],\n",
    "                     'TWRT': [0, 2000],\n",
    "                     'TRA':  [0, 0.5],\n",
    "                     'RD':   [0, 100],\n",
    "                     'SM':   [0, 0.8],\n",
    "                     'WWLOW': [0, 100]\n",
    "                    }\n",
    "\n",
    "    ymin, ymax = para_min_maxs[para_name]\n",
    "    \n",
    "    mm = (x >= xmin) & (x <= xmax)\n",
    "    x_scale = LinearScale(min = xmin, max = xmax)\n",
    "    # ymin = np.maximum(np.nanpercentile(y[mm], 2.5) * 0.9, 0)\n",
    "    # ymax = np.nanpercentile(y[mm], 97.5) * 1.1\n",
    "    y_scale = LinearScale(min = ymin  , max = ymax)\n",
    "    \n",
    "    line = Lines(x=x, y=y, scales={\"x\": x_scale, \"y\": y_scale})\n",
    "    tick_style = {'font-size': 8}\n",
    "    tick_values = np.linspace(ymin, ymax, 4)\n",
    "    tick_values\n",
    "    \n",
    "    ax_x = Axis(label=\"DOY\", scale=x_scale,  num_ticks=5, tick_style=tick_style)\n",
    "    ax_y = Axis(label=para_name, scale=y_scale, orientation=\"vertical\", side=\"left\", tick_values=tick_values, tick_style=tick_style)\n",
    "\n",
    "    para_fig = Figure(layout=fig_layout, axes=[ax_x, ax_y], marks=[line], \n",
    "                       title=para_name, \n",
    "                       animation_duration=500, \n",
    "                       title_style = {'font-size': '8'},\n",
    "                       fig_margin = dict(top=16, bottom=16, left=26, right=16))\n",
    "\n",
    "    return para_fig\n",
    "\n",
    "\n",
    "def update_wofost_fig_val(wofost_out_para, x, y, xmin = 180, xmax = 330):\n",
    "    \n",
    "    x = np.array(x)\n",
    "    y = np.array(y)\n",
    "    mm = (x >= xmin) & (x <= xmax)\n",
    "    y = y[mm]\n",
    "    x = x[mm]\n",
    "    wofost_out_dict[wofost_out_para].marks[0].x = x\n",
    "    wofost_out_dict[wofost_out_para].marks[0].y = y\n",
    "    \n",
    "wofost_out_paras = ['DVS', 'LAI', 'TAGP', 'TWSO', 'TWLV', 'TWST', 'TWRT', 'TRA', 'RD', 'SM', 'WWLOW']\n",
    "para_figs = []\n",
    "\n",
    "x = np.arange(180, 330)\n",
    "y = np.zeros_like(x)\n",
    "\n",
    "doys = [int(i.strftime('%j')) for i in df.index]\n",
    "x = np.array(doys)\n",
    "for wofost_out_para in wofost_out_paras:\n",
    "    y = df.loc[:, wofost_out_para] * 0\n",
    "    para_fig = get_para_plot(wofost_out_para, x, y)\n",
    "    para_figs.append(para_fig)\n",
    "wofost_out_dict = dict(zip(wofost_out_paras, para_figs))\n",
    "\n",
    "wofost_out_panel_to_show = [wofost_out_dict['LAI'], wofost_out_dict['TWSO']]\n",
    "wofost_out_panel = HBox(wofost_out_panel_to_show)\n",
    "wofost_out_panel\n"
   ]
  },
  {
   "cell_type": "code",
   "execution_count": 20,
   "id": "b9e7a171-276b-4ba1-8740-e0ca4b051d60",
   "metadata": {},
   "outputs": [],
   "source": [
    "update_wofost_fig_val('TWSO', doys, df.TWSO*1)\n",
    "update_wofost_fig_val('LAI', doys, df.LAI*0.3)"
   ]
  },
  {
   "cell_type": "code",
   "execution_count": 9,
   "id": "e3267b5c-d5bc-4ad4-94d1-59cbeb8df787",
   "metadata": {},
   "outputs": [
    {
     "name": "stderr",
     "output_type": "stream",
     "text": [
      "/home/users/marcyin/miniconda3/lib/python3.7/site-packages/_distutils_hack/__init__.py:30: UserWarning: Setuptools is replacing distutils.\n",
      "  warnings.warn(\"Setuptools is replacing distutils.\")\n"
     ]
    }
   ],
   "source": [
    "from wofost_utils import create_ensemble, wofost_parameter_sweep_func, get_era5_gee\n",
    "\n",
    "lon = -2.7\n",
    "lat = 8.20\n",
    "year = 2020\n",
    "\n",
    "x_scale = LinearScale(min = 180, max = 365)\n",
    "y_scale = LinearScale(min = 0  , max = 3)\n",
    "x = np.arange(200, 365)\n",
    "y = np.zeros_like(x)\n",
    "\n",
    "line = Lines(x=x, y=y, scales={\"x\": x_scale, \"y\": y_scale})\n",
    "\n",
    "tick_style = {'font-size': 8}\n",
    "ax_x = Axis(label=\"DOY\", scale=x_scale, num_ticks=5, tick_style=tick_style)\n",
    "ax_y = Axis(label='LAI', scale=y_scale, orientation=\"vertical\", side=\"left\", num_ticks=4, tick_style=tick_style)\n",
    "\n",
    "wofost_lai_fig = Figure(layout=fig_layout, axes=[ax_x, ax_y], marks=[line], \n",
    "                   title=field_id, \n",
    "                   animation_duration=500, \n",
    "                   title_style = {'font-size': '8'},\n",
    "                   fig_margin = dict(top=16, bottom=16, left=16, right=16))\n",
    "wofost_lai_fig\n",
    "\n",
    "\n",
    "\n",
    "from map_utils import debounce\n",
    "\n",
    "@debounce(0.2)\n",
    "def on_change_wofost_slider(change):\n",
    "    global lai_fig\n",
    "    if (change['type'] == 'change'):\n",
    "    \n",
    "        meteo_file = get_era5_gee(year, lat, lon, dest_folder=\"data/\")\n",
    "        wofost_sliders_dict = dict(zip(paras, wofost_sliders))\n",
    "        ens_parameters = {}\n",
    "        paras_to_overwrite = [i for i in paras if 'AMAXTB_' not in i]\n",
    "        for para in paras_to_overwrite:    \n",
    "            ens_parameters[para] = wofost_sliders_dict[para].value\n",
    "        ens_parameters['AMAXTB'] = [0, 55.0, 1.5, wofost_sliders_dict['AMAXTB_150'].value]\n",
    "        df = wofost_parameter_sweep_func(year, ens_parameters = ens_parameters.copy(), meteo=meteo_file)\n",
    "        dates = df.index\n",
    "        doys = [int(i.strftime('%j')) for i in dates]\n",
    "        \n",
    "        # wofost_lai_fig.x = doys\n",
    "        # wofost_lai_fig.y = np.array(df.LAI)\n",
    "        wofost_lai_fig.marks[0].x = doys\n",
    "        wofost_lai_fig.marks[0].y = np.array(df.LAI)\n",
    "        \n",
    "        # lai_fig.marks[1].scales = {'x': LinearScale(max=365.0, min=180.0), 'y': LinearScale(max=3.0, min=0.0)} \n",
    "        # lai_fig.axes[1].scale = LinearScale(max=3.0, min=0.0)\n",
    "        # lai_fig.axes[0].scale = LinearScale(max=365.0, min=180.0)\n",
    "\n",
    "        \n",
    "for wofost_slider in wofost_sliders[:-1]:\n",
    "    wofost_slider.observe(on_change_wofost_slider)\n",
    "# plt.plot(dates, df.LAI)\n",
    "# plt.twinx()\n",
    "# plt.plot(dates, df.TWSO)"
   ]
  },
  {
   "cell_type": "code",
   "execution_count": 14,
   "id": "382369b4-6ca4-43a6-97e2-3aa5390be8cc",
   "metadata": {},
   "outputs": [],
   "source": [
    "        meteo_file = get_era5_gee(year, lat, lon, dest_folder=\"data/\")\n",
    "        wofost_sliders_dict = dict(zip(paras, wofost_sliders))\n",
    "        ens_parameters = {}\n",
    "        paras_to_overwrite = [i for i in paras if 'AMAXTB_' not in i]\n",
    "        for para in paras_to_overwrite:    \n",
    "            ens_parameters[para] = wofost_sliders_dict[para].value\n",
    "        ens_parameters['AMAXTB'] = [0, 55.0, 1.5, wofost_sliders_dict['AMAXTB_150'].value]\n",
    "        df = wofost_parameter_sweep_func(year, ens_parameters = ens_parameters.copy(), meteo=meteo_file)\n",
    "        dates = df.index\n",
    "        doys = [int(i.strftime('%j')) for i in dates]\n",
    "        \n",
    "        # wofost_lai_fig.x = doys\n",
    "        # wofost_lai_fig.y = np.array(df.LAI)\n",
    "        wofost_lai_fig.marks[0].x = doys\n",
    "        wofost_lai_fig.marks[0].y = np.array(df.LAI)"
   ]
  },
  {
   "cell_type": "code",
   "execution_count": 3,
   "id": "eedf57ae-6b8a-48c7-a1db-4b7bac336c78",
   "metadata": {},
   "outputs": [
    {
     "name": "stdout",
     "output_type": "stream",
     "text": [
      "loading simulations\n"
     ]
    },
    {
     "data": {
      "application/vnd.jupyter.widget-view+json": {
       "model_id": "2b183ff0454a45b8ad6f4dc31712333f",
       "version_major": 2,
       "version_minor": 0
      },
      "text/plain": [
       "VBox(children=(VBox(children=(HBox(children=(Figure(animation_duration=500, axes=[Axis(label='DOY', num_ticks=…"
      ]
     },
     "metadata": {},
     "output_type": "display_data"
    }
   ],
   "source": [
    "from ipywidgets import IntSlider\n",
    "def read_wofost_data(fname):\n",
    "    f = np.load(fname, allow_pickle=True)\n",
    "    parameters = f.f.parameters\n",
    "    t_axis = f.f.t_axis\n",
    "    samples = f.f.samples\n",
    "    lais = f.f.lais\n",
    "    yields = f.f.yields\n",
    "    DVS = f.f.DVS\n",
    "    print(\"loading simulations\")\n",
    "    doys = [int(datetime.datetime.utcfromtimestamp(i.tolist()/1e9).strftime('%j')) for i in t_axis]\n",
    "    return parameters, t_axis, samples, lais, yields, DVS, doys\n",
    "\n",
    "parameters, t_axis, samples, lais, yields, DVS, simu_doys = read_wofost_data('data/wofost_sims_dvs150.npz')\n",
    "\n",
    "k_slider1 = IntSlider(min=181, max=224, value=200,        # Opacity is valid in [0,1] range\n",
    "               orientation='horizontal',       # Vertical slider is what we want\n",
    "               readout=True,                # No need to show exact value\n",
    "               layout=Layout(width='80%'),\n",
    "               description='Doy of sowing: ', \n",
    "               style={'description_width': 'initial'}) \n",
    "\n",
    "k_slider2 = FloatSlider(min=0.05, max=0.55, value=0.35,       # Opacity is valid in [0,1] range\n",
    "               step = 0.0025,\n",
    "               orientation='horizontal',       # Vertical slider is what we want\n",
    "               readout=True,                # No need to show exact value\n",
    "               layout=Layout(width='80%'),\n",
    "               description='Early stress level: ', \n",
    "               style={'description_width': 'initial'}) \n",
    "\n",
    "k_slider3 = FloatSlider(min=0.05, max=0.55,  value=0.35,       # Opacity is valid in [0,1] range\n",
    "               step = 0.0025,\n",
    "               orientation='horizontal',       # Vertical slider is what we want\n",
    "               readout=True,                # No need to show exact value\n",
    "               layout=Layout(width='80%'),\n",
    "               description='Late stress level: ', \n",
    "               style={'description_width': 'initial'}) \n",
    "\n",
    "def on_change_k_slider(change):\n",
    "\n",
    "    if (change['name'] == 'value') & (change['type'] == 'change'):\n",
    "        value = change[\"new\"]\n",
    "        old = change['old']\n",
    "        \n",
    "        k1 = k_slider1.value\n",
    "        k2 = k_slider2.value\n",
    "        k3 = k_slider3.value\n",
    "        \n",
    "        \n",
    "        diff = abs(parameters - np.array([[k1, k2, k3]])).sum(axis=1)\n",
    "        ind = np.argmin(diff)\n",
    "        \n",
    "        simu_lai = lais[ind]\n",
    "        \n",
    "        \n",
    "        # var_line = line_axs[-1]\n",
    "        # var_line.scales = line_axs[5][0].scales\n",
    "        # field_lai_boxes.scales = var_line.scales\n",
    "        # lai_dot.scales = var_line.scales\n",
    "\n",
    "        wofost_lai.x = simu_doys\n",
    "        wofost_lai.y = simu_lai\n",
    "        wofost_lai.scales = lai_fig.marks[1].scales\n",
    "        wofost_lai.colors = ['red']\n",
    "        \n",
    "        print(simu_doys[np.nanargmin(abs(DVS[ind]-1.25))])\n",
    "        \n",
    "        # print(k1, k2, k3)\n",
    "        # print(parameters[ind])\n",
    "        \n",
    "        \n",
    "        \n",
    "k_slider1.observe(on_change_k_slider)\n",
    "k_slider2.observe(on_change_k_slider)\n",
    "k_slider3.observe(on_change_k_slider)\n",
    "\n",
    "panel_box = VBox([fig_box, k_slider1, k_slider2, k_slider3], layout = box_layout)\n",
    "panel_box"
   ]
  },
  {
   "cell_type": "code",
   "execution_count": null,
   "id": "d9585054-0321-4e6e-bf72-26be753768b2",
   "metadata": {},
   "outputs": [],
   "source": []
  }
 ],
 "metadata": {
  "kernelspec": {
   "display_name": "Python 3.7.8 64-bit ('base': conda)",
   "language": "python",
   "name": "python378jvsc74a57bd0ef356a1c93566abccc07ec29b723e17d317be8a0fe41550b84b00cb85c4fd003"
  },
  "language_info": {
   "codemirror_mode": {
    "name": "ipython",
    "version": 3
   },
   "file_extension": ".py",
   "mimetype": "text/x-python",
   "name": "python",
   "nbconvert_exporter": "python",
   "pygments_lexer": "ipython3",
   "version": "3.7.8"
  }
 },
 "nbformat": 4,
 "nbformat_minor": 5
}
