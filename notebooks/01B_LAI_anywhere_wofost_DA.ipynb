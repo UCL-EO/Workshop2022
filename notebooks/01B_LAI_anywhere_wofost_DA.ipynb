{
 "cells": [
  {
   "cell_type": "code",
   "execution_count": 14,
   "id": "7f7452a9-660f-4333-bf98-1d7aa22a8361",
   "metadata": {},
   "outputs": [],
   "source": [
    "run create_map_01B.py"
   ]
  },
  {
   "cell_type": "code",
   "execution_count": 15,
   "id": "b749b041-ef50-4b59-bbbc-29361283d8db",
   "metadata": {},
   "outputs": [
    {
     "data": {
      "application/vnd.jupyter.widget-view+json": {
       "model_id": "854ea331726047e8b42f57e59b9e6ade",
       "version_major": 2,
       "version_minor": 0
      },
      "text/plain": [
       "Map(center=[9.3771, -0.6062], controls=(ZoomControl(options=['position', 'zoom_in_text', 'zoom_in_title', 'zoo…"
      ]
     },
     "metadata": {},
     "output_type": "display_data"
    }
   ],
   "source": [
    "my_map"
   ]
  },
  {
   "cell_type": "code",
   "execution_count": null,
   "id": "deb6cb01-2782-45b2-87bc-1464c6800894",
   "metadata": {},
   "outputs": [],
   "source": []
  }
 ],
 "metadata": {
  "kernelspec": {
   "display_name": "Python 3.7.8 64-bit ('base': conda)",
   "language": "python",
   "name": "python378jvsc74a57bd0ef356a1c93566abccc07ec29b723e17d317be8a0fe41550b84b00cb85c4fd003"
  },
  "language_info": {
   "codemirror_mode": {
    "name": "ipython",
    "version": 3
   },
   "file_extension": ".py",
   "mimetype": "text/x-python",
   "name": "python",
   "nbconvert_exporter": "python",
   "pygments_lexer": "ipython3",
   "version": "3.7.8"
  }
 },
 "nbformat": 4,
 "nbformat_minor": 5
}
